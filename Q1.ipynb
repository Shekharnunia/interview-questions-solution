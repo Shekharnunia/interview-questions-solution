{
 "cells": [
  {
   "cell_type": "code",
   "execution_count": 1,
   "metadata": {},
   "outputs": [],
   "source": [
    "import sys"
   ]
  },
  {
   "cell_type": "code",
   "execution_count": 2,
   "metadata": {},
   "outputs": [
    {
     "name": "stdout",
     "output_type": "stream",
     "text": [
      "Enter value using a coma : 10,20,-2,14,2,-5,5,8,2\n"
     ]
    }
   ],
   "source": [
    "a = input('Enter value using a coma : ')\n",
    "array = [float(i) if float(i)<10000.0 and float(i)>-10000 else sys.exit('Give value between 10000 and -10000') for i in a.split(',')]"
   ]
  },
  {
   "cell_type": "code",
   "execution_count": 3,
   "metadata": {},
   "outputs": [
    {
     "name": "stdout",
     "output_type": "stream",
     "text": [
      "Enter value of P to slice the array2\n",
      "Enter value of Q to slice the array5\n"
     ]
    }
   ],
   "source": [
    "p = int(input(\"Enter value of P to slice the array\"))\n",
    "q = int(input(\"Enter value of Q to slice the array\"))"
   ]
  },
  {
   "cell_type": "code",
   "execution_count": 4,
   "metadata": {},
   "outputs": [
    {
     "name": "stdout",
     "output_type": "stream",
     "text": [
      "Multiplication is 280.0\n"
     ]
    }
   ],
   "source": [
    "c = 1\n",
    "for i in array[p:q+1]:\n",
    "    c*=i\n",
    "print(f'Multiplication is {1000000000}') if c>1000000000 else print(f'Multiplication is {c}')"
   ]
  },
  {
   "cell_type": "code",
   "execution_count": 5,
   "metadata": {},
   "outputs": [
    {
     "name": "stdout",
     "output_type": "stream",
     "text": [
      "Array is [10.0, 20.0, -2.0, 14.0, 2.0, -5.0, 5.0, 8.0, 2.0]\n"
     ]
    }
   ],
   "source": [
    "print(f'Array is {array}')"
   ]
  },
  {
   "cell_type": "code",
   "execution_count": null,
   "metadata": {},
   "outputs": [],
   "source": []
  }
 ],
 "metadata": {
  "kernelspec": {
   "display_name": "Python 3",
   "language": "python",
   "name": "python3"
  },
  "language_info": {
   "codemirror_mode": {
    "name": "ipython",
    "version": 3
   },
   "file_extension": ".py",
   "mimetype": "text/x-python",
   "name": "python",
   "nbconvert_exporter": "python",
   "pygments_lexer": "ipython3",
   "version": "3.7.3"
  }
 },
 "nbformat": 4,
 "nbformat_minor": 2
}
